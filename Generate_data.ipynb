{
  "nbformat": 4,
  "nbformat_minor": 0,
  "metadata": {
    "colab": {
      "provenance": [],
      "authorship_tag": "ABX9TyMLz+u6lfUlLTJofwrYNwez",
      "include_colab_link": true
    },
    "kernelspec": {
      "name": "python3",
      "display_name": "Python 3"
    },
    "language_info": {
      "name": "python"
    }
  },
  "cells": [
    {
      "cell_type": "markdown",
      "metadata": {
        "id": "view-in-github",
        "colab_type": "text"
      },
      "source": [
        "<a href=\"https://colab.research.google.com/github/BaidyaSubhadip/LinearRegression/blob/main/Generate_data.ipynb\" target=\"_parent\"><img src=\"https://colab.research.google.com/assets/colab-badge.svg\" alt=\"Open In Colab\"/></a>"
      ]
    },
    {
      "cell_type": "code",
      "source": [
        "import random"
      ],
      "metadata": {
        "id": "UidsqylEbeAV"
      },
      "execution_count": 12,
      "outputs": []
    },
    {
      "cell_type": "code",
      "source": [
        "def gen_data(num_samples, min_hours, max_hours):\n",
        "  data = []\n",
        "  for i in range(num_samples):\n",
        "    x = random.uniform(min_hours,max_hours)\n",
        "    base_score = 50 + (x-min_hours+1)*(50/(max_hours-min_hours))\n",
        "    noise = random.gauss(0,15)\n",
        "    y = min(base_score+noise,100)\n",
        "    y = max(y,0)\n",
        "    y = round(y,1)\n",
        "    x = round(x,1)\n",
        "    data.append((x,y))\n",
        "  return data"
      ],
      "metadata": {
        "id": "u4XK_2pabhZj"
      },
      "execution_count": 13,
      "outputs": []
    },
    {
      "cell_type": "code",
      "source": [
        "Data = gen_data(1000,10,20)"
      ],
      "metadata": {
        "id": "Cfc_L3KieQt4"
      },
      "execution_count": 14,
      "outputs": []
    },
    {
      "cell_type": "code",
      "source": [
        "with open(\"data.csv\",\"w\") as file:\n",
        "  file.write(\"X,Y\\n\")  # Write header row\n",
        "  for row in Data:\n",
        "    x, y = row\n",
        "    file.write(f\"{x},{y}\\n\")\n",
        "print(\"Data is generated.\")"
      ],
      "metadata": {
        "colab": {
          "base_uri": "https://localhost:8080/"
        },
        "id": "9dTMkVAreYIw",
        "outputId": "eb1b8eb4-f92c-4d32-c4dc-49266b995531"
      },
      "execution_count": 15,
      "outputs": [
        {
          "output_type": "stream",
          "name": "stdout",
          "text": [
            "Data is generated.\n"
          ]
        }
      ]
    }
  ]
}