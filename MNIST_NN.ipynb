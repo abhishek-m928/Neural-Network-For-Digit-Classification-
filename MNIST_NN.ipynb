{
  "nbformat": 4,
  "nbformat_minor": 0,
  "metadata": {
    "colab": {
      "provenance": [],
      "authorship_tag": "ABX9TyPtdp5LhPo78VQry94EVRTk",
      "include_colab_link": true
    },
    "kernelspec": {
      "name": "python3",
      "display_name": "Python 3"
    },
    "language_info": {
      "name": "python"
    }
  },
  "cells": [
    {
      "cell_type": "markdown",
      "metadata": {
        "id": "view-in-github",
        "colab_type": "text"
      },
      "source": [
        "<a href=\"https://colab.research.google.com/github/BaidyaSubhadip/Machine-Learning-Models-from-scratch/blob/main/MNIST_NN.ipynb\" target=\"_parent\"><img src=\"https://colab.research.google.com/assets/colab-badge.svg\" alt=\"Open In Colab\"/></a>"
      ]
    },
    {
      "cell_type": "code",
      "execution_count": 1,
      "metadata": {
        "id": "_h2UfBBrkVAQ"
      },
      "outputs": [],
      "source": [
        "import numpy as np\n",
        "import matplotlib.pyplot as plt\n",
        "import pandas as pd"
      ]
    },
    {
      "cell_type": "code",
      "source": [
        "train = pd.read_csv('train.csv')\n"
      ],
      "metadata": {
        "id": "5EJOWl31kwws"
      },
      "execution_count": 2,
      "outputs": []
    },
    {
      "cell_type": "code",
      "source": [
        "train.shape"
      ],
      "metadata": {
        "colab": {
          "base_uri": "https://localhost:8080/"
        },
        "id": "1SK5mI0Dk792",
        "outputId": "534b1f90-e9fe-4fdc-d4a9-fce16a11a813"
      },
      "execution_count": 3,
      "outputs": [
        {
          "output_type": "execute_result",
          "data": {
            "text/plain": [
              "(42000, 785)"
            ]
          },
          "metadata": {},
          "execution_count": 3
        }
      ]
    },
    {
      "cell_type": "code",
      "source": [
        "train.head(5)"
      ],
      "metadata": {
        "colab": {
          "base_uri": "https://localhost:8080/",
          "height": 255
        },
        "id": "nIEO2LkMnvuP",
        "outputId": "88abf609-9a07-4cdf-c522-cbdf442e1968"
      },
      "execution_count": 4,
      "outputs": [
        {
          "output_type": "execute_result",
          "data": {
            "text/plain": [
              "   label  pixel0  pixel1  pixel2  pixel3  pixel4  pixel5  pixel6  pixel7  \\\n",
              "0      1       0       0       0       0       0       0       0       0   \n",
              "1      0       0       0       0       0       0       0       0       0   \n",
              "2      1       0       0       0       0       0       0       0       0   \n",
              "3      4       0       0       0       0       0       0       0       0   \n",
              "4      0       0       0       0       0       0       0       0       0   \n",
              "\n",
              "   pixel8  ...  pixel774  pixel775  pixel776  pixel777  pixel778  pixel779  \\\n",
              "0       0  ...         0         0         0         0         0         0   \n",
              "1       0  ...         0         0         0         0         0         0   \n",
              "2       0  ...         0         0         0         0         0         0   \n",
              "3       0  ...         0         0         0         0         0         0   \n",
              "4       0  ...         0         0         0         0         0         0   \n",
              "\n",
              "   pixel780  pixel781  pixel782  pixel783  \n",
              "0         0         0         0         0  \n",
              "1         0         0         0         0  \n",
              "2         0         0         0         0  \n",
              "3         0         0         0         0  \n",
              "4         0         0         0         0  \n",
              "\n",
              "[5 rows x 785 columns]"
            ],
            "text/html": [
              "\n",
              "  <div id=\"df-c9f803ec-7ba7-4f9d-8bd6-a808685eb10b\" class=\"colab-df-container\">\n",
              "    <div>\n",
              "<style scoped>\n",
              "    .dataframe tbody tr th:only-of-type {\n",
              "        vertical-align: middle;\n",
              "    }\n",
              "\n",
              "    .dataframe tbody tr th {\n",
              "        vertical-align: top;\n",
              "    }\n",
              "\n",
              "    .dataframe thead th {\n",
              "        text-align: right;\n",
              "    }\n",
              "</style>\n",
              "<table border=\"1\" class=\"dataframe\">\n",
              "  <thead>\n",
              "    <tr style=\"text-align: right;\">\n",
              "      <th></th>\n",
              "      <th>label</th>\n",
              "      <th>pixel0</th>\n",
              "      <th>pixel1</th>\n",
              "      <th>pixel2</th>\n",
              "      <th>pixel3</th>\n",
              "      <th>pixel4</th>\n",
              "      <th>pixel5</th>\n",
              "      <th>pixel6</th>\n",
              "      <th>pixel7</th>\n",
              "      <th>pixel8</th>\n",
              "      <th>...</th>\n",
              "      <th>pixel774</th>\n",
              "      <th>pixel775</th>\n",
              "      <th>pixel776</th>\n",
              "      <th>pixel777</th>\n",
              "      <th>pixel778</th>\n",
              "      <th>pixel779</th>\n",
              "      <th>pixel780</th>\n",
              "      <th>pixel781</th>\n",
              "      <th>pixel782</th>\n",
              "      <th>pixel783</th>\n",
              "    </tr>\n",
              "  </thead>\n",
              "  <tbody>\n",
              "    <tr>\n",
              "      <th>0</th>\n",
              "      <td>1</td>\n",
              "      <td>0</td>\n",
              "      <td>0</td>\n",
              "      <td>0</td>\n",
              "      <td>0</td>\n",
              "      <td>0</td>\n",
              "      <td>0</td>\n",
              "      <td>0</td>\n",
              "      <td>0</td>\n",
              "      <td>0</td>\n",
              "      <td>...</td>\n",
              "      <td>0</td>\n",
              "      <td>0</td>\n",
              "      <td>0</td>\n",
              "      <td>0</td>\n",
              "      <td>0</td>\n",
              "      <td>0</td>\n",
              "      <td>0</td>\n",
              "      <td>0</td>\n",
              "      <td>0</td>\n",
              "      <td>0</td>\n",
              "    </tr>\n",
              "    <tr>\n",
              "      <th>1</th>\n",
              "      <td>0</td>\n",
              "      <td>0</td>\n",
              "      <td>0</td>\n",
              "      <td>0</td>\n",
              "      <td>0</td>\n",
              "      <td>0</td>\n",
              "      <td>0</td>\n",
              "      <td>0</td>\n",
              "      <td>0</td>\n",
              "      <td>0</td>\n",
              "      <td>...</td>\n",
              "      <td>0</td>\n",
              "      <td>0</td>\n",
              "      <td>0</td>\n",
              "      <td>0</td>\n",
              "      <td>0</td>\n",
              "      <td>0</td>\n",
              "      <td>0</td>\n",
              "      <td>0</td>\n",
              "      <td>0</td>\n",
              "      <td>0</td>\n",
              "    </tr>\n",
              "    <tr>\n",
              "      <th>2</th>\n",
              "      <td>1</td>\n",
              "      <td>0</td>\n",
              "      <td>0</td>\n",
              "      <td>0</td>\n",
              "      <td>0</td>\n",
              "      <td>0</td>\n",
              "      <td>0</td>\n",
              "      <td>0</td>\n",
              "      <td>0</td>\n",
              "      <td>0</td>\n",
              "      <td>...</td>\n",
              "      <td>0</td>\n",
              "      <td>0</td>\n",
              "      <td>0</td>\n",
              "      <td>0</td>\n",
              "      <td>0</td>\n",
              "      <td>0</td>\n",
              "      <td>0</td>\n",
              "      <td>0</td>\n",
              "      <td>0</td>\n",
              "      <td>0</td>\n",
              "    </tr>\n",
              "    <tr>\n",
              "      <th>3</th>\n",
              "      <td>4</td>\n",
              "      <td>0</td>\n",
              "      <td>0</td>\n",
              "      <td>0</td>\n",
              "      <td>0</td>\n",
              "      <td>0</td>\n",
              "      <td>0</td>\n",
              "      <td>0</td>\n",
              "      <td>0</td>\n",
              "      <td>0</td>\n",
              "      <td>...</td>\n",
              "      <td>0</td>\n",
              "      <td>0</td>\n",
              "      <td>0</td>\n",
              "      <td>0</td>\n",
              "      <td>0</td>\n",
              "      <td>0</td>\n",
              "      <td>0</td>\n",
              "      <td>0</td>\n",
              "      <td>0</td>\n",
              "      <td>0</td>\n",
              "    </tr>\n",
              "    <tr>\n",
              "      <th>4</th>\n",
              "      <td>0</td>\n",
              "      <td>0</td>\n",
              "      <td>0</td>\n",
              "      <td>0</td>\n",
              "      <td>0</td>\n",
              "      <td>0</td>\n",
              "      <td>0</td>\n",
              "      <td>0</td>\n",
              "      <td>0</td>\n",
              "      <td>0</td>\n",
              "      <td>...</td>\n",
              "      <td>0</td>\n",
              "      <td>0</td>\n",
              "      <td>0</td>\n",
              "      <td>0</td>\n",
              "      <td>0</td>\n",
              "      <td>0</td>\n",
              "      <td>0</td>\n",
              "      <td>0</td>\n",
              "      <td>0</td>\n",
              "      <td>0</td>\n",
              "    </tr>\n",
              "  </tbody>\n",
              "</table>\n",
              "<p>5 rows × 785 columns</p>\n",
              "</div>\n",
              "    <div class=\"colab-df-buttons\">\n",
              "\n",
              "  <div class=\"colab-df-container\">\n",
              "    <button class=\"colab-df-convert\" onclick=\"convertToInteractive('df-c9f803ec-7ba7-4f9d-8bd6-a808685eb10b')\"\n",
              "            title=\"Convert this dataframe to an interactive table.\"\n",
              "            style=\"display:none;\">\n",
              "\n",
              "  <svg xmlns=\"http://www.w3.org/2000/svg\" height=\"24px\" viewBox=\"0 -960 960 960\">\n",
              "    <path d=\"M120-120v-720h720v720H120Zm60-500h600v-160H180v160Zm220 220h160v-160H400v160Zm0 220h160v-160H400v160ZM180-400h160v-160H180v160Zm440 0h160v-160H620v160ZM180-180h160v-160H180v160Zm440 0h160v-160H620v160Z\"/>\n",
              "  </svg>\n",
              "    </button>\n",
              "\n",
              "  <style>\n",
              "    .colab-df-container {\n",
              "      display:flex;\n",
              "      gap: 12px;\n",
              "    }\n",
              "\n",
              "    .colab-df-convert {\n",
              "      background-color: #E8F0FE;\n",
              "      border: none;\n",
              "      border-radius: 50%;\n",
              "      cursor: pointer;\n",
              "      display: none;\n",
              "      fill: #1967D2;\n",
              "      height: 32px;\n",
              "      padding: 0 0 0 0;\n",
              "      width: 32px;\n",
              "    }\n",
              "\n",
              "    .colab-df-convert:hover {\n",
              "      background-color: #E2EBFA;\n",
              "      box-shadow: 0px 1px 2px rgba(60, 64, 67, 0.3), 0px 1px 3px 1px rgba(60, 64, 67, 0.15);\n",
              "      fill: #174EA6;\n",
              "    }\n",
              "\n",
              "    .colab-df-buttons div {\n",
              "      margin-bottom: 4px;\n",
              "    }\n",
              "\n",
              "    [theme=dark] .colab-df-convert {\n",
              "      background-color: #3B4455;\n",
              "      fill: #D2E3FC;\n",
              "    }\n",
              "\n",
              "    [theme=dark] .colab-df-convert:hover {\n",
              "      background-color: #434B5C;\n",
              "      box-shadow: 0px 1px 3px 1px rgba(0, 0, 0, 0.15);\n",
              "      filter: drop-shadow(0px 1px 2px rgba(0, 0, 0, 0.3));\n",
              "      fill: #FFFFFF;\n",
              "    }\n",
              "  </style>\n",
              "\n",
              "    <script>\n",
              "      const buttonEl =\n",
              "        document.querySelector('#df-c9f803ec-7ba7-4f9d-8bd6-a808685eb10b button.colab-df-convert');\n",
              "      buttonEl.style.display =\n",
              "        google.colab.kernel.accessAllowed ? 'block' : 'none';\n",
              "\n",
              "      async function convertToInteractive(key) {\n",
              "        const element = document.querySelector('#df-c9f803ec-7ba7-4f9d-8bd6-a808685eb10b');\n",
              "        const dataTable =\n",
              "          await google.colab.kernel.invokeFunction('convertToInteractive',\n",
              "                                                    [key], {});\n",
              "        if (!dataTable) return;\n",
              "\n",
              "        const docLinkHtml = 'Like what you see? Visit the ' +\n",
              "          '<a target=\"_blank\" href=https://colab.research.google.com/notebooks/data_table.ipynb>data table notebook</a>'\n",
              "          + ' to learn more about interactive tables.';\n",
              "        element.innerHTML = '';\n",
              "        dataTable['output_type'] = 'display_data';\n",
              "        await google.colab.output.renderOutput(dataTable, element);\n",
              "        const docLink = document.createElement('div');\n",
              "        docLink.innerHTML = docLinkHtml;\n",
              "        element.appendChild(docLink);\n",
              "      }\n",
              "    </script>\n",
              "  </div>\n",
              "\n",
              "\n",
              "<div id=\"df-c8ae9b41-016f-46ce-8c34-6a84592acca3\">\n",
              "  <button class=\"colab-df-quickchart\" onclick=\"quickchart('df-c8ae9b41-016f-46ce-8c34-6a84592acca3')\"\n",
              "            title=\"Suggest charts\"\n",
              "            style=\"display:none;\">\n",
              "\n",
              "<svg xmlns=\"http://www.w3.org/2000/svg\" height=\"24px\"viewBox=\"0 0 24 24\"\n",
              "     width=\"24px\">\n",
              "    <g>\n",
              "        <path d=\"M19 3H5c-1.1 0-2 .9-2 2v14c0 1.1.9 2 2 2h14c1.1 0 2-.9 2-2V5c0-1.1-.9-2-2-2zM9 17H7v-7h2v7zm4 0h-2V7h2v10zm4 0h-2v-4h2v4z\"/>\n",
              "    </g>\n",
              "</svg>\n",
              "  </button>\n",
              "\n",
              "<style>\n",
              "  .colab-df-quickchart {\n",
              "      --bg-color: #E8F0FE;\n",
              "      --fill-color: #1967D2;\n",
              "      --hover-bg-color: #E2EBFA;\n",
              "      --hover-fill-color: #174EA6;\n",
              "      --disabled-fill-color: #AAA;\n",
              "      --disabled-bg-color: #DDD;\n",
              "  }\n",
              "\n",
              "  [theme=dark] .colab-df-quickchart {\n",
              "      --bg-color: #3B4455;\n",
              "      --fill-color: #D2E3FC;\n",
              "      --hover-bg-color: #434B5C;\n",
              "      --hover-fill-color: #FFFFFF;\n",
              "      --disabled-bg-color: #3B4455;\n",
              "      --disabled-fill-color: #666;\n",
              "  }\n",
              "\n",
              "  .colab-df-quickchart {\n",
              "    background-color: var(--bg-color);\n",
              "    border: none;\n",
              "    border-radius: 50%;\n",
              "    cursor: pointer;\n",
              "    display: none;\n",
              "    fill: var(--fill-color);\n",
              "    height: 32px;\n",
              "    padding: 0;\n",
              "    width: 32px;\n",
              "  }\n",
              "\n",
              "  .colab-df-quickchart:hover {\n",
              "    background-color: var(--hover-bg-color);\n",
              "    box-shadow: 0 1px 2px rgba(60, 64, 67, 0.3), 0 1px 3px 1px rgba(60, 64, 67, 0.15);\n",
              "    fill: var(--button-hover-fill-color);\n",
              "  }\n",
              "\n",
              "  .colab-df-quickchart-complete:disabled,\n",
              "  .colab-df-quickchart-complete:disabled:hover {\n",
              "    background-color: var(--disabled-bg-color);\n",
              "    fill: var(--disabled-fill-color);\n",
              "    box-shadow: none;\n",
              "  }\n",
              "\n",
              "  .colab-df-spinner {\n",
              "    border: 2px solid var(--fill-color);\n",
              "    border-color: transparent;\n",
              "    border-bottom-color: var(--fill-color);\n",
              "    animation:\n",
              "      spin 1s steps(1) infinite;\n",
              "  }\n",
              "\n",
              "  @keyframes spin {\n",
              "    0% {\n",
              "      border-color: transparent;\n",
              "      border-bottom-color: var(--fill-color);\n",
              "      border-left-color: var(--fill-color);\n",
              "    }\n",
              "    20% {\n",
              "      border-color: transparent;\n",
              "      border-left-color: var(--fill-color);\n",
              "      border-top-color: var(--fill-color);\n",
              "    }\n",
              "    30% {\n",
              "      border-color: transparent;\n",
              "      border-left-color: var(--fill-color);\n",
              "      border-top-color: var(--fill-color);\n",
              "      border-right-color: var(--fill-color);\n",
              "    }\n",
              "    40% {\n",
              "      border-color: transparent;\n",
              "      border-right-color: var(--fill-color);\n",
              "      border-top-color: var(--fill-color);\n",
              "    }\n",
              "    60% {\n",
              "      border-color: transparent;\n",
              "      border-right-color: var(--fill-color);\n",
              "    }\n",
              "    80% {\n",
              "      border-color: transparent;\n",
              "      border-right-color: var(--fill-color);\n",
              "      border-bottom-color: var(--fill-color);\n",
              "    }\n",
              "    90% {\n",
              "      border-color: transparent;\n",
              "      border-bottom-color: var(--fill-color);\n",
              "    }\n",
              "  }\n",
              "</style>\n",
              "\n",
              "  <script>\n",
              "    async function quickchart(key) {\n",
              "      const quickchartButtonEl =\n",
              "        document.querySelector('#' + key + ' button');\n",
              "      quickchartButtonEl.disabled = true;  // To prevent multiple clicks.\n",
              "      quickchartButtonEl.classList.add('colab-df-spinner');\n",
              "      try {\n",
              "        const charts = await google.colab.kernel.invokeFunction(\n",
              "            'suggestCharts', [key], {});\n",
              "      } catch (error) {\n",
              "        console.error('Error during call to suggestCharts:', error);\n",
              "      }\n",
              "      quickchartButtonEl.classList.remove('colab-df-spinner');\n",
              "      quickchartButtonEl.classList.add('colab-df-quickchart-complete');\n",
              "    }\n",
              "    (() => {\n",
              "      let quickchartButtonEl =\n",
              "        document.querySelector('#df-c8ae9b41-016f-46ce-8c34-6a84592acca3 button');\n",
              "      quickchartButtonEl.style.display =\n",
              "        google.colab.kernel.accessAllowed ? 'block' : 'none';\n",
              "    })();\n",
              "  </script>\n",
              "</div>\n",
              "\n",
              "    </div>\n",
              "  </div>\n"
            ],
            "application/vnd.google.colaboratory.intrinsic+json": {
              "type": "dataframe",
              "variable_name": "train"
            }
          },
          "metadata": {},
          "execution_count": 4
        }
      ]
    },
    {
      "cell_type": "code",
      "source": [
        "val_count = train['label'].value_counts()\n",
        "print(val_count)"
      ],
      "metadata": {
        "colab": {
          "base_uri": "https://localhost:8080/"
        },
        "id": "e7wugzoeoB0D",
        "outputId": "a805dc84-c71f-46f4-b97d-9d88374b4028"
      },
      "execution_count": 5,
      "outputs": [
        {
          "output_type": "stream",
          "name": "stdout",
          "text": [
            "label\n",
            "1    4684\n",
            "7    4401\n",
            "3    4351\n",
            "9    4188\n",
            "2    4177\n",
            "6    4137\n",
            "0    4132\n",
            "4    4072\n",
            "8    4063\n",
            "5    3795\n",
            "Name: count, dtype: int64\n"
          ]
        }
      ]
    },
    {
      "cell_type": "code",
      "source": [
        "val_count.plot(kind='bar')\n",
        "plt.xlabel('Labels')\n",
        "plt.ylabel('Count')\n",
        "plt.title('Value Counts of Labels')\n",
        "plt.show()"
      ],
      "metadata": {
        "colab": {
          "base_uri": "https://localhost:8080/",
          "height": 467
        },
        "id": "16QOuB-moK7U",
        "outputId": "20b6c02e-b949-4cfd-a7ce-b3e8c8110b43"
      },
      "execution_count": 7,
      "outputs": [
        {
          "output_type": "display_data",
          "data": {
            "text/plain": [
              "<Figure size 640x480 with 1 Axes>"
            ],
            "image/png": "[encoded data removed]"
          },
          "metadata": {}
        }
      ]
    },
    {
      "cell_type": "code",
      "source": [
        "data = np.array(train)\n",
        "m, n = data.shape\n",
        "np.random.shuffle(data)"
      ],
      "metadata": {
        "id": "uXqsHUKUlGsM"
      },
      "execution_count": 8,
      "outputs": []
    },
    {
      "cell_type": "code",
      "source": [
        "data_dev = data[0:1000].T\n",
        "Y_dev = data_dev[0]\n",
        "X_dev = data_dev[1:n]\n",
        "X_dev = X_dev / 255.\n",
        "\n",
        "data_train = data[1000:m].T\n",
        "Y_train = data_train[0]\n",
        "X_train = data_train[1:n]\n",
        "X_train = X_train / 255.\n",
        "_,m_train = X_train.shape"
      ],
      "metadata": {
        "id": "ePXLNCuRldhF"
      },
      "execution_count": 9,
      "outputs": []
    },
    {
      "cell_type": "code",
      "source": [
        "Y_train"
      ],
      "metadata": {
        "colab": {
          "base_uri": "https://localhost:8080/"
        },
        "id": "Kv5Fcl-WljNj",
        "outputId": "4429235b-b53e-4a3f-e150-ccdf45c0f2be"
      },
      "execution_count": 10,
      "outputs": [
        {
          "output_type": "execute_result",
          "data": {
            "text/plain": [
              "array([7, 5, 7, ..., 7, 9, 3])"
            ]
          },
          "metadata": {},
          "execution_count": 10
        }
      ]
    },
    {
      "cell_type": "markdown",
      "source": [
        "Will build a simple two layer neural network model. Input layer will have 784 units corresponding to 784 pixels in each 28*28 sized image. The first hidden layer will have 10 units with ReLu activation. And the final output layer will have 10 units corresponing to a softmax function indicating the probabilty of 0 to 9 digit.\n"
      ],
      "metadata": {
        "id": "nMaGwZjJlo6q"
      }
    },
    {
      "cell_type": "code",
      "source": [
        "def ReLU(x):\n",
        "    return np.maximum(x, 0)"
      ],
      "metadata": {
        "id": "AQURUSaOmgIT"
      },
      "execution_count": 11,
      "outputs": []
    },
    {
      "cell_type": "code",
      "source": [
        "def softmax(Z):\n",
        "    A = np.exp(Z) / sum(np.exp(Z))\n",
        "    return A"
      ],
      "metadata": {
        "id": "TfXgNaDZmrK9"
      },
      "execution_count": 12,
      "outputs": []
    },
    {
      "cell_type": "code",
      "source": [
        "def init_params():\n",
        "    W1 = np.random.rand(10, 784) - 0.5\n",
        "    b1 = np.random.rand(10, 1) - 0.5\n",
        "    W2 = np.random.rand(10, 10) - 0.5\n",
        "    b2 = np.random.rand(10, 1) - 0.5\n",
        "    return W1, b1, W2, b2"
      ],
      "metadata": {
        "id": "hoCk3OIUmumC"
      },
      "execution_count": 23,
      "outputs": []
    },
    {
      "cell_type": "code",
      "source": [
        "def forward_prop(W1, b1, W2, b2, X):\n",
        "    Z1 = W1.dot(X) + b1\n",
        "    A1 = ReLU(Z1)\n",
        "    Z2 = W2.dot(A1) + b2\n",
        "    A2 = softmax(Z2)\n",
        "    return Z1, A1, Z2, A2"
      ],
      "metadata": {
        "id": "uFA7Fw3_nEe2"
      },
      "execution_count": 14,
      "outputs": []
    },
    {
      "cell_type": "code",
      "source": [
        "def ReLU_deriv(Z):\n",
        "    return Z > 0"
      ],
      "metadata": {
        "id": "VVryD9OOnR6s"
      },
      "execution_count": 15,
      "outputs": []
    },
    {
      "cell_type": "code",
      "source": [
        "def one_hot(Y):\n",
        "    one_hot_Y = np.zeros((Y.size, Y.max() + 1))\n",
        "    one_hot_Y[np.arange(Y.size), Y] = 1\n",
        "    one_hot_Y = one_hot_Y.T\n",
        "    return one_hot_Y"
      ],
      "metadata": {
        "id": "53d_rUYUnVsY"
      },
      "execution_count": 16,
      "outputs": []
    },
    {
      "cell_type": "code",
      "source": [
        "def backward_prop(Z1, A1, Z2, A2, W1, W2, X, Y):\n",
        "    one_hot_Y = one_hot(Y)\n",
        "    dZ2 = A2 - one_hot_Y\n",
        "    dW2 = 1 / m * dZ2.dot(A1.T)\n",
        "    db2 = 1 / m * np.sum(dZ2)\n",
        "    dZ1 = W2.T.dot(dZ2) * ReLU_deriv(Z1)\n",
        "    dW1 = 1 / m * dZ1.dot(X.T)\n",
        "    db1 = 1 / m * np.sum(dZ1)\n",
        "    return dW1, db1, dW2, db2"
      ],
      "metadata": {
        "id": "OyCxQ5L_nYIE"
      },
      "execution_count": 17,
      "outputs": []
    },
    {
      "cell_type": "code",
      "source": [
        "def update_params(W1, b1, W2, b2, dW1, db1, dW2, db2, alpha):\n",
        "    W1 = W1 - alpha * dW1\n",
        "    b1 = b1 - alpha * db1\n",
        "    W2 = W2 - alpha * dW2\n",
        "    b2 = b2 - alpha * db2\n",
        "    return W1, b1, W2, b2"
      ],
      "metadata": {
        "id": "dR9h2R6snbQe"
      },
      "execution_count": 18,
      "outputs": []
    },
    {
      "cell_type": "code",
      "source": [
        "def get_predictions(A2):\n",
        "    return np.argmax(A2, 0)\n"
      ],
      "metadata": {
        "id": "dac64bXOneWF"
      },
      "execution_count": 19,
      "outputs": []
    },
    {
      "cell_type": "code",
      "source": [
        "def get_accuracy(predictions, Y):\n",
        "    print(predictions, Y)\n",
        "    return np.sum(predictions == Y) / Y.size"
      ],
      "metadata": {
        "id": "_OpmoNCTniBX"
      },
      "execution_count": 20,
      "outputs": []
    },
    {
      "cell_type": "code",
      "source": [
        "def gradient_descent(X, Y, alpha, iterations):\n",
        "  W1, b1, W2, b2 = init_params()\n",
        "  for i in range(iterations):\n",
        "        Z1, A1, Z2, A2 = forward_prop(W1, b1, W2, b2, X)\n",
        "        dW1, db1, dW2, db2 = backward_prop(Z1, A1, Z2, A2, W1, W2, X, Y)\n",
        "        W1, b1, W2, b2 = update_params(W1, b1, W2, b2, dW1, db1, dW2, db2, alpha)\n",
        "        if i % 100== 0:\n",
        "            print(\"Iteration: \", i)\n",
        "            predictions = get_predictions(A2)\n",
        "            print(get_accuracy(predictions, Y))\n",
        "  return W1, b1, W2, b2"
      ],
      "metadata": {
        "id": "hjiHp87PnlDd"
      },
      "execution_count": 29,
      "outputs": []
    },
    {
      "cell_type": "code",
      "source": [
        "W1, b1, W2, b2 = gradient_descent(X_train, Y_train, 0.1, 1000)"
      ],
      "metadata": {
        "colab": {
          "base_uri": "https://localhost:8080/"
        },
        "id": "vAYJTDw6ohhA",
        "outputId": "d7462df4-ed6c-4558-8b35-25b094cd30e0"
      },
      "execution_count": 30,
      "outputs": [
        {
          "output_type": "stream",
          "name": "stdout",
          "text": [
            "Iteration:  0\n",
            "[1 7 1 ... 3 3 3] [7 5 7 ... 7 9 3]\n",
            "0.09758536585365854\n",
            "Iteration:  100\n",
            "[7 5 7 ... 9 9 3] [7 5 7 ... 7 9 3]\n",
            "0.6488048780487805\n",
            "Iteration:  200\n",
            "[7 5 7 ... 7 9 3] [7 5 7 ... 7 9 3]\n",
            "0.7787073170731708\n",
            "Iteration:  300\n",
            "[7 5 7 ... 7 9 3] [7 5 7 ... 7 9 3]\n",
            "0.8148292682926829\n",
            "Iteration:  400\n",
            "[7 5 7 ... 7 9 3] [7 5 7 ... 7 9 3]\n",
            "0.8363170731707317\n",
            "Iteration:  500\n",
            "[7 5 7 ... 7 9 3] [7 5 7 ... 7 9 3]\n",
            "0.8502195121951219\n",
            "Iteration:  600\n",
            "[7 5 7 ... 7 9 3] [7 5 7 ... 7 9 3]\n",
            "0.8595365853658536\n",
            "Iteration:  700\n",
            "[7 5 7 ... 7 9 3] [7 5 7 ... 7 9 3]\n",
            "0.8678536585365854\n",
            "Iteration:  800\n",
            "[7 5 7 ... 7 9 3] [7 5 7 ... 7 9 3]\n",
            "0.8739268292682927\n",
            "Iteration:  900\n",
            "[7 5 7 ... 7 9 3] [7 5 7 ... 7 9 3]\n",
            "0.878780487804878\n"
          ]
        }
      ]
    },
    {
      "cell_type": "code",
      "source": [
        "def make_predictions(X, W1, b1, W2, b2):\n",
        "    _, _, _, A2 = forward_prop(W1, b1, W2, b2, X)\n",
        "    predictions = get_predictions(A2)\n",
        "    return predictions\n"
      ],
      "metadata": {
        "id": "E8C8U5qnpWlU"
      },
      "execution_count": 31,
      "outputs": []
    },
    {
      "cell_type": "code",
      "source": [
        "def test_prediction(index, W1, b1, W2, b2):\n",
        "    current_image = X_train[:, index, None]\n",
        "    prediction = make_predictions(X_train[:, index, None], W1, b1, W2, b2)\n",
        "    label = Y_train[index]\n",
        "    print(\"Prediction: \", prediction)\n",
        "    print(\"Label: \", label)\n",
        "\n",
        "    current_image = current_image.reshape((28, 28)) * 255\n",
        "    plt.gray()\n",
        "    plt.imshow(current_image, interpolation='nearest')\n",
        "    plt.show()"
      ],
      "metadata": {
        "id": "RoIGBmmjpZze"
      },
      "execution_count": 32,
      "outputs": []
    },
    {
      "cell_type": "code",
      "source": [
        "test_prediction(0, W1, b1, W2, b2)\n",
        "test_prediction(10, W1, b1, W2, b2)\n",
        "test_prediction(22, W1, b1, W2, b2)\n",
        "test_prediction(36, W1, b1, W2, b2)"
      ],
      "metadata": {
        "colab": {
          "base_uri": "https://localhost:8080/",
          "height": 1000
        },
        "id": "sk3xNcDSpeFl",
        "outputId": "c5beb6af-c144-4c0c-adee-a5a29247422a"
      },
      "execution_count": 33,
      "outputs": [
        {
          "output_type": "stream",
          "name": "stdout",
          "text": [
            "Prediction:  [7]\n",
            "Label:  7\n"
          ]
        },
        {
          "output_type": "display_data",
          "data": {
            "text/plain": [
              "<Figure size 640x480 with 1 Axes>"
            ],
            "image/png": "[encoded data removed]"
          },
          "metadata": {}
        },
        {
          "output_type": "stream",
          "name": "stdout",
          "text": [
            "Prediction:  [1]\n",
            "Label:  1\n"
          ]
        },
        {
          "output_type": "display_data",
          "data": {
            "text/plain": [
              "<Figure size 640x480 with 1 Axes>"
            ],
            "image/png": "[encoded data removed]"
          },
          "metadata": {}
        },
        {
          "output_type": "stream",
          "name": "stdout",
          "text": [
            "Prediction:  [2]\n",
            "Label:  2\n"
          ]
        },
        {
          "output_type": "display_data",
          "data": {
            "text/plain": [
              "<Figure size 640x480 with 1 Axes>"
            ],
            "image/png": "[encoded data removed]"
          },
          "metadata": {}
        },
        {
          "output_type": "stream",
          "name": "stdout",
          "text": [
            "Prediction:  [5]\n",
            "Label:  5\n"
          ]
        },
        {
          "output_type": "display_data",
          "data": {
            "text/plain": [
              "<Figure size 640x480 with 1 Axes>"
            ],
            "image/png": "[encoded data removed]"
          },
          "metadata": {}
        }
      ]
    },
    {
      "cell_type": "code",
      "source": [
        "dev_predictions = make_predictions(X_dev, W1, b1, W2, b2)\n",
        "get_accuracy(dev_predictions, Y_dev)"
      ],
      "metadata": {
        "colab": {
          "base_uri": "https://localhost:8080/"
        },
        "id": "wzvZAsUQpg0D",
        "outputId": "b6306c55-46eb-4317-a38a-feac11a91678"
      },
      "execution_count": 34,
      "outputs": [
        {
          "output_type": "stream",
          "name": "stdout",
          "text": [
            "[2 9 5 2 6 0 8 3 2 0 3 9 1 8 4 1 3 4 4 4 0 6 4 8 1 1 4 6 4 9 3 9 3 1 8 8 8\n",
            " 0 3 4 0 7 8 0 3 1 2 7 6 0 9 0 9 1 4 8 8 8 6 1 5 8 2 3 5 8 1 8 6 0 1 5 1 0\n",
            " 9 9 1 0 7 2 6 7 1 4 6 5 2 7 4 4 0 8 1 8 0 1 9 7 3 5 5 7 4 0 9 9 1 7 3 2 4\n",
            " 2 2 3 2 8 4 7 3 9 9 5 8 4 8 7 9 4 1 6 0 9 9 6 1 3 9 4 9 3 2 3 4 6 6 4 5 1\n",
            " 5 5 8 0 2 4 3 6 9 9 8 3 8 5 2 5 5 1 5 1 0 6 5 4 2 3 6 9 2 2 5 3 4 8 3 9 1\n",
            " 8 3 7 5 8 5 3 6 0 0 6 4 6 8 2 0 9 5 7 7 5 9 7 9 0 4 9 6 0 5 8 8 9 7 9 8 6\n",
            " 3 6 1 1 0 1 0 1 3 6 6 1 2 8 4 6 0 3 2 9 1 0 3 1 7 1 7 1 3 2 8 1 3 8 3 5 5\n",
            " 1 6 7 9 4 1 9 4 4 0 5 1 9 1 5 8 4 0 8 0 7 7 7 6 8 6 6 8 4 7 2 0 6 7 0 9 7\n",
            " 5 2 9 7 8 6 3 8 3 1 1 6 2 3 9 2 8 7 8 6 2 4 8 9 3 8 1 4 1 0 2 2 7 2 0 6 0\n",
            " 5 7 3 4 5 1 7 0 8 5 3 9 2 2 0 4 5 9 3 7 5 2 5 3 2 5 0 3 8 9 5 6 1 2 6 9 9\n",
            " 5 2 7 3 6 3 1 9 1 0 0 3 9 6 1 3 1 8 8 9 4 0 5 4 3 3 8 1 7 0 3 2 4 6 1 1 8\n",
            " 7 7 7 9 1 2 7 0 4 6 1 0 9 1 4 8 1 0 4 7 8 6 3 8 4 6 0 3 4 0 5 3 1 0 2 5 7\n",
            " 9 4 9 3 9 3 9 0 6 3 7 1 6 4 2 3 0 8 2 5 9 3 3 2 0 4 1 7 3 4 1 3 5 8 7 8 1\n",
            " 7 1 7 3 1 3 0 9 6 3 9 1 7 4 4 8 5 6 6 1 5 7 7 2 7 5 1 1 8 0 4 4 1 6 0 3 4\n",
            " 4 1 4 8 6 9 0 1 8 9 4 6 0 8 5 0 1 5 6 8 3 0 8 5 9 7 6 3 6 6 1 2 7 8 6 0 5\n",
            " 2 0 1 0 1 2 4 8 9 6 7 7 0 8 8 7 5 2 9 7 3 3 3 2 3 1 6 7 7 6 1 0 4 1 9 2 0\n",
            " 4 0 9 4 3 4 1 6 1 1 8 9 8 3 7 2 5 8 4 4 6 3 4 9 5 0 5 5 6 5 0 0 6 6 3 6 1\n",
            " 2 1 2 9 7 2 7 3 5 7 7 4 8 1 0 1 7 1 6 4 1 1 2 8 6 3 3 1 0 2 7 7 2 0 9 7 0\n",
            " 9 7 9 4 4 8 5 1 8 4 7 4 9 2 9 1 7 6 6 3 2 8 1 0 7 4 4 3 7 3 2 2 9 0 7 4 5\n",
            " 4 4 4 9 0 8 5 8 1 1 6 6 2 0 6 6 7 5 4 4 1 1 5 8 6 2 3 1 1 1 9 9 9 1 1 4 3\n",
            " 4 0 9 7 7 6 3 9 3 5 6 1 5 4 5 4 1 8 2 2 4 1 0 3 8 3 5 9 0 5 3 6 5 7 8 7 1\n",
            " 7 9 4 0 9 9 2 9 1 1 7 0 4 6 0 4 0 1 6 5 9 7 0 7 9 1 9 0 0 0 1 4 7 0 6 1 6\n",
            " 6 3 6 6 9 7 6 3 2 0 3 7 6 8 6 8 7 0 1 3 4 9 4 9 3 6 8 1 2 5 6 7 3 7 1 7 0\n",
            " 2 8 3 7 3 9 2 3 7 9 0 4 7 7 7 7 7 2 0 7 1 0 3 0 1 9 0 5 1 1 2 0 6 5 8 8 5\n",
            " 3 9 9 3 0 9 4 8 6 1 1 3 0 0 9 9 5 8 7 9 7 1 2 0 0 6 0 7 0 1 1 2 6 2 9 0 9\n",
            " 0 5 5 0 7 6 3 0 6 0 8 5 7 4 9 5 9 4 5 9 8 2 1 9 1 1 0 5 5 1 4 2 5 3 0 3 0\n",
            " 5 5 8 5 3 1 0 0 5 6 0 7 5 7 2 1 5 6 3 2 7 2 9 8 1 4 1 4 6 6 9 2 2 2 2 9 2\n",
            " 0] [2 9 5 2 6 0 8 3 2 0 3 4 1 8 4 1 3 4 7 9 0 6 4 2 1 1 4 6 4 9 3 9 3 1 8 5 8\n",
            " 0 3 4 0 7 8 0 3 1 2 7 6 0 9 0 9 1 4 8 8 8 6 1 5 5 2 3 5 8 2 8 6 0 1 9 1 0\n",
            " 7 4 1 0 7 2 6 7 1 4 6 5 2 7 4 4 0 8 1 8 0 1 9 7 5 5 5 7 4 0 9 9 1 7 3 2 2\n",
            " 2 2 3 2 8 4 7 3 9 9 5 8 4 8 7 8 4 1 6 0 9 9 6 1 3 9 4 9 3 2 3 2 6 6 2 3 1\n",
            " 5 5 8 0 7 8 3 4 9 9 8 3 8 5 2 5 5 8 5 1 0 5 5 4 2 8 6 5 2 2 5 3 4 8 3 9 3\n",
            " 8 3 7 5 8 5 3 6 0 8 6 4 6 8 2 0 9 5 7 7 5 4 7 9 0 4 9 6 0 5 3 8 9 7 9 8 2\n",
            " 3 6 1 1 0 1 0 2 3 6 6 1 2 8 4 6 0 3 2 9 1 0 8 1 7 1 7 8 3 2 8 1 3 8 3 5 5\n",
            " 8 7 7 9 4 1 9 4 4 5 5 1 9 1 5 8 4 0 8 0 7 7 7 6 8 6 6 5 4 7 2 3 6 7 0 9 7\n",
            " 5 2 9 7 8 6 3 8 5 1 9 6 1 3 9 4 9 7 8 6 2 4 8 9 3 8 1 4 1 0 2 2 7 2 0 6 0\n",
            " 5 7 3 4 8 1 7 0 8 5 3 9 2 2 5 4 5 9 8 7 5 2 1 3 2 5 5 3 1 9 5 6 1 2 6 9 9\n",
            " 5 2 7 3 6 3 1 9 1 0 0 3 9 6 1 1 1 2 5 9 4 0 5 4 3 3 8 1 7 0 3 2 4 6 1 1 8\n",
            " 7 7 7 9 1 2 7 0 4 6 1 0 9 1 4 8 1 0 2 7 8 6 3 8 4 6 0 3 4 0 5 5 1 0 2 5 7\n",
            " 9 4 9 3 9 3 9 0 6 3 7 1 6 4 2 3 0 8 2 0 9 3 3 2 0 4 1 7 3 4 1 3 5 8 7 8 1\n",
            " 7 1 7 3 1 3 0 9 6 2 9 1 7 4 4 8 5 6 6 1 5 7 7 2 7 5 1 1 8 0 4 9 1 6 9 3 2\n",
            " 4 1 4 8 6 9 0 1 8 9 9 6 0 8 5 0 1 5 6 3 9 0 8 5 9 7 6 3 6 6 1 2 7 8 9 0 5\n",
            " 2 3 1 9 1 2 4 8 9 6 7 7 0 8 8 7 5 2 9 7 3 3 3 2 3 1 6 7 7 6 1 0 4 1 4 2 0\n",
            " 4 0 9 4 5 4 1 6 1 1 8 9 5 3 7 2 5 8 4 4 6 3 4 9 0 0 4 5 6 5 0 0 6 2 3 6 1\n",
            " 2 1 2 7 7 2 7 3 5 7 9 4 8 1 5 1 7 8 6 4 1 1 2 8 6 3 3 1 0 2 7 7 2 0 9 7 0\n",
            " 9 5 9 4 4 8 5 1 8 4 7 4 9 2 8 1 7 6 0 3 2 8 1 0 7 4 4 8 7 3 2 2 9 0 7 4 5\n",
            " 4 4 4 7 0 8 5 8 1 1 6 6 2 0 6 6 7 5 4 4 1 1 5 8 6 2 3 1 1 1 9 9 9 1 1 7 3\n",
            " 4 0 4 7 7 6 3 9 3 9 6 1 5 4 8 4 1 8 2 2 9 1 0 3 8 3 5 9 0 8 3 8 5 7 8 7 1\n",
            " 7 9 4 2 9 9 2 9 1 1 7 0 4 6 0 4 0 1 6 5 9 7 0 7 9 1 9 6 0 0 1 4 7 0 6 1 6\n",
            " 6 3 6 6 9 7 6 3 6 0 3 7 6 8 6 8 7 0 1 3 4 4 4 9 3 6 8 1 2 5 6 9 3 7 1 7 0\n",
            " 2 8 3 7 3 9 2 3 7 9 0 8 7 9 7 7 7 2 0 7 1 0 5 0 1 9 0 5 1 1 2 0 6 5 2 5 5\n",
            " 3 3 9 3 0 9 4 8 6 1 1 3 9 0 9 9 5 1 9 4 7 1 6 0 0 6 0 7 0 1 1 2 6 2 9 2 9\n",
            " 0 5 5 6 7 6 3 0 6 0 8 5 9 4 9 5 9 4 5 9 8 2 5 9 1 1 0 5 5 1 2 2 5 3 0 3 0\n",
            " 5 1 8 5 8 1 0 0 5 6 0 7 5 7 7 1 8 6 3 2 9 2 9 8 1 4 1 4 6 6 4 3 2 2 2 9 2\n",
            " 0]\n"
          ]
        },
        {
          "output_type": "execute_result",
          "data": {
            "text/plain": [
              "0.887"
            ]
          },
          "metadata": {},
          "execution_count": 34
        }
      ]
    }
  ]
}